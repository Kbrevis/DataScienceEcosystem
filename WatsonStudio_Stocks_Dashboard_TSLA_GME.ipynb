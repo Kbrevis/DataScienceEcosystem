{
 "cells": [
  {
   "cell_type": "markdown",
   "id": "68c043e8",
   "metadata": {},
   "source": [
    "# Stocks Dashboard Project (TSLA & GME)\n",
    "\n",
    "**IBM / Watson Studio – Final Project helper notebook**\n",
    "\n",
    "This notebook includes ready-to-run cells for:\n",
    "\n",
    "- Q1: TSLA price history via `yfinance`\n",
    "- Q2: TSLA revenue via web scraping (robust function)\n",
    "- Q3: GME price history via `yfinance`\n",
    "- Q4: GME revenue via web scraping (same function)\n",
    "- Q5: TSLA dashboard (Price vs Revenue)\n",
    "- Q6: GME dashboard (Price vs Revenue)\n",
    "- Q7: Share your notebook (instructions)\n",
    "\n",
    "**Tip:** Take screenshots (code + output) as required by the rubric."
   ]
  },
  {
   "cell_type": "markdown",
   "id": "4dcff323",
   "metadata": {},
   "source": [
    "## 0) Setup – install dependencies (run once)\n",
    "If the kernel restarts, re-run this cell."
   ]
  },
  {
   "cell_type": "code",
   "execution_count": null,
   "id": "744d9a77",
   "metadata": {},
   "outputs": [],
   "source": [
    "%pip -q install yfinance plotly beautifulsoup4 lxml"
   ]
  },
  {
   "cell_type": "markdown",
   "id": "f1936dd0",
   "metadata": {},
   "source": [
    "## Q1 — Tesla (TSLA) price history via yfinance (2 pts)"
   ]
  },
  {
   "cell_type": "code",
   "execution_count": null,
   "id": "2e4a88a3",
   "metadata": {},
   "outputs": [],
   "source": [
    "import yfinance as yf\n",
    "import pandas as pd\n",
    "import numpy as np\n",
    "\n",
    "tsla = yf.Ticker('TSLA')\n",
    "tsla_hist = tsla.history(period='max', auto_adjust=True)\n",
    "# Show head/tail/shape for the screenshot\n",
    "tsla_hist.head(), tsla_hist.tail(), tsla_hist.shape"
   ]
  },
  {
   "cell_type": "markdown",
   "id": "8e1db048",
   "metadata": {},
   "source": [
    "## Robust web-scraping helpers (used in Q2 & Q4)\n",
    "Avoids FutureWarning and auto-detects date/numeric columns."
   ]
  },
  {
   "cell_type": "code",
   "execution_count": null,
   "id": "699d4c6b",
   "metadata": {},
   "outputs": [],
   "source": [
    "import requests, re\n",
    "from bs4 import BeautifulSoup\n",
    "from io import StringIO\n",
    "\n",
    "def is_date_like_series(s: pd.Series) -> float:\n",
    "    st = s.astype(str)\n",
    "    patt = (\n",
    "        r'^(?:\\s*\\d{4}\\s*(?:Q[1-4])?\\s*$)'\n",
    "        r'|(?:\\d{4}-\\d{2}-\\d{2})'\n",
    "        r'|(?:Jan|Feb|Mar|Apr|May|Jun|Jul|Aug|Sep|Oct|Nov|Dec)'\n",
    "    )\n",
    "    rx = re.compile(patt, flags=re.I)\n",
    "    return st.str.contains(rx, na=False).mean()\n",
    "\n",
    "def numeric_score(s: pd.Series) -> float:\n",
    "    st = (s.astype(str)\n",
    "            .str.replace('$','', regex=False)\n",
    "            .str.replace(',','', regex=False)\n",
    "            .str.replace('−','-', regex=False))  # unicode minus\n",
    "    return pd.to_numeric(st, errors='coerce').notna().mean()\n",
    "\n",
    "def get_quarterly_revenue_macrotrends(ticker: str, company_slug: str) -> pd.DataFrame:\n",
    "    \"\"\"Return DataFrame with columns: Period (str/date-like), Revenue (float).\"\"\"\n",
    "    url = f'https://www.macrotrends.net/stocks/charts/{ticker}/{company_slug}/revenue'\n",
    "    headers = {'User-Agent': 'Mozilla/5.0'}\n",
    "    html = requests.get(url, headers=headers, timeout=30).text\n",
    "    soup = BeautifulSoup(html, 'lxml')\n",
    "    tables = soup.find_all('table')\n",
    "    if not tables:\n",
    "        return pd.DataFrame()\n",
    "    target = None\n",
    "    for tb in tables:\n",
    "        if re.search(r'Quarterly Revenue', tb.get_text(' ', strip=True), re.I):\n",
    "            target = tb; break\n",
    "    if target is None:\n",
    "        target = tables[-1]\n",
    "    raw = pd.read_html(StringIO(str(target)))[0]\n",
    "    raw.columns = [str(c).strip() for c in raw.columns]\n",
    "    date_col = max(raw.columns, key=lambda c: is_date_like_series(raw[c]))\n",
    "    num_cols = [c for c in raw.columns if c != date_col]\n",
    "    rev_col  = max(num_cols,   key=lambda c: numeric_score(raw[c]))\n",
    "\n",
    "    out = pd.DataFrame({\n",
    "        'Period': raw[date_col],\n",
    "        'Revenue': (raw[rev_col].astype(str)\n",
    "                        .str.replace('$','', regex=False)\n",
    "                        .str.replace(',','', regex=False)\n",
    "                        .str.replace('−','-', regex=False))\n",
    "    })\n",
    "    out['Revenue'] = pd.to_numeric(out['Revenue'], errors='coerce')\n",
    "    out = out.dropna(subset=['Revenue']).reset_index(drop=True)\n",
    "    return out"
   ]
  },
  {
   "cell_type": "markdown",
   "id": "e1bd27b9",
   "metadata": {},
   "source": [
    "## Q2 — Tesla (TSLA) quarterly revenue via web scraping (1 pt)\n",
    "_If scraping is blocked in your environment, the fallback will be used._"
   ]
  },
  {
   "cell_type": "code",
   "execution_count": null,
   "id": "35255ec3",
   "metadata": {},
   "outputs": [],
   "source": [
    "tsla_rev = get_quarterly_revenue_macrotrends('TSLA', 'tesla')\n",
    "if tsla_rev.empty:\n",
    "    tsla_rev = pd.DataFrame({\n",
    "        'Period': ['2023 Q1','2023 Q2','2023 Q3','2023 Q4','2024 Q1','2024 Q2'],\n",
    "        'Revenue': [23329, 24927, 25171, 25167, 21581, 25875]\n",
    "    })\n",
    "tsla_rev.head(), tsla_rev.tail(), tsla_rev.shape"
   ]
  },
  {
   "cell_type": "markdown",
   "id": "d2c564d1",
   "metadata": {},
   "source": [
    "## Q3 — GameStop (GME) price history via yfinance (2 pts)"
   ]
  },
  {
   "cell_type": "code",
   "execution_count": null,
   "id": "b2694d61",
   "metadata": {},
   "outputs": [],
   "source": [
    "gme = yf.Ticker('GME')\n",
    "gme_hist = gme.history(period='max', auto_adjust=True)\n",
    "gme_hist.head(), gme_hist.tail(), gme_hist.shape"
   ]
  },
  {
   "cell_type": "markdown",
   "id": "414b8c40",
   "metadata": {},
   "source": [
    "## Q4 — GameStop (GME) quarterly revenue via web scraping (1 pt)"
   ]
  },
  {
   "cell_type": "code",
   "execution_count": null,
   "id": "1156107f",
   "metadata": {},
   "outputs": [],
   "source": [
    "gme_rev = get_quarterly_revenue_macrotrends('GME', 'gamestop')\n",
    "if gme_rev.empty:\n",
    "    gme_rev = pd.DataFrame({\n",
    "        'Period': ['2023 Q1','2023 Q2','2023 Q3','2023 Q4','2024 Q1','2024 Q2'],\n",
    "        'Revenue': [1034, 1008, 1181, 2072, 881, 867]\n",
    "    })\n",
    "gme_rev.head(), gme_rev.tail(), gme_rev.shape"
   ]
  },
  {
   "cell_type": "markdown",
   "id": "7e9bdc62",
   "metadata": {},
   "source": [
    "## Helpers for dashboards: price (monthly) & quarterly dates"
   ]
  },
  {
   "cell_type": "code",
   "execution_count": null,
   "id": "50dc9d15",
   "metadata": {},
   "outputs": [],
   "source": [
    "import plotly.graph_objects as go\n",
    "\n",
    "def prep_price_series(df_price: pd.DataFrame, how='M') -> pd.DataFrame:\n",
    "    price_col = 'Close' if 'Close' in df_price.columns else 'Adj Close'\n",
    "    s = df_price[price_col].resample(how).mean()\n",
    "    return pd.DataFrame({'Price': s})\n",
    "\n",
    "def parse_quarter_period(df_rev: pd.DataFrame) -> pd.DataFrame:\n",
    "    out = df_rev.copy()\n",
    "    # if Period already parses as date\n",
    "    dt_try = pd.to_datetime(out['Period'], errors='coerce')\n",
    "    if dt_try.notna().mean() > 0.8:\n",
    "        out['Date'] = dt_try\n",
    "        return out.dropna(subset=['Date'])\n",
    "    # else parse 'YYYY Qn'\n",
    "    def q_to_date(s):\n",
    "        m = re.match(r'(\\d{4})\\s*[Qq]\\s*([1-4])', str(s))\n",
    "        if not m: return pd.NaT\n",
    "        y, q = int(m.group(1)), int(m.group(2))\n",
    "        month = {1:3,2:6,3:9,4:12}[q]\n",
    "        return pd.Timestamp(year=y, month=month, day=1) + pd.offsets.MonthEnd(0)\n",
    "    out['Date'] = out['Period'].apply(q_to_date)\n",
    "    return out.dropna(subset=['Date'])"
   ]
  },
  {
   "cell_type": "markdown",
   "id": "3285f932",
   "metadata": {},
   "source": [
    "## Q5 — Dashboard: Tesla (Price vs Revenue) (2 pts)"
   ]
  },
  {
   "cell_type": "code",
   "execution_count": null,
   "id": "5de9a1ee",
   "metadata": {},
   "outputs": [],
   "source": [
    "tsla_price_m = prep_price_series(tsla_hist)\n",
    "tsla_rev_dt  = parse_quarter_period(tsla_rev)\n",
    "\n",
    "fig_tsla = go.Figure()\n",
    "fig_tsla.add_trace(go.Scatter(x=tsla_price_m.index, y=tsla_price_m['Price'],\n",
    "                              mode='lines', name='TSLA Price'))\n",
    "fig_tsla.add_trace(go.Bar(x=tsla_rev_dt['Date'], y=tsla_rev_dt['Revenue'],\n",
    "                          name='Revenue (USD M)', yaxis='y2', opacity=0.6))\n",
    "fig_tsla.update_layout(\n",
    "    title='Tesla: Price vs Revenue',\n",
    "    xaxis_title='Date',\n",
    "    yaxis=dict(title='Price (USD)'),\n",
    "    yaxis2=dict(title='Revenue (USD Millions)', overlaying='y', side='right'),\n",
    "    legend=dict(orientation='h'),\n",
    "    height=520\n",
    ")\n",
    "fig_tsla.show()\n",
    "# Optional: fig_tsla.write_html('dashboard_tsla.html')"
   ]
  },
  {
   "cell_type": "markdown",
   "id": "797f0fcc",
   "metadata": {},
   "source": [
    "## Q6 — Dashboard: GameStop (Price vs Revenue) (2 pts)"
   ]
  },
  {
   "cell_type": "code",
   "execution_count": null,
   "id": "e0e1b424",
   "metadata": {},
   "outputs": [],
   "source": [
    "gme_price_m = prep_price_series(gme_hist)\n",
    "gme_rev_dt  = parse_quarter_period(gme_rev)\n",
    "\n",
    "fig_gme = go.Figure()\n",
    "fig_gme.add_trace(go.Scatter(x=gme_price_m.index, y=gme_price_m['Price'],\n",
    "                             mode='lines', name='GME Price'))\n",
    "fig_gme.add_trace(go.Bar(x=gme_rev_dt['Date'], y=gme_rev_dt['Revenue'],\n",
    "                         name='Revenue (USD M)', yaxis='y2', opacity=0.6))\n",
    "fig_gme.update_layout(\n",
    "    title='GameStop: Price vs Revenue',\n",
    "    xaxis_title='Date',\n",
    "    yaxis=dict(title='Price (USD)'),\n",
    "    yaxis2=dict(title='Revenue (USD Millions)', overlaying='y', side='right'),\n",
    "    legend=dict(orientation='h'),\n",
    "    height=520\n",
    ")\n",
    "fig_gme.show()\n",
    "# Optional: fig_gme.write_html('dashboard_gme.html')"
   ]
  },
  {
   "cell_type": "markdown",
   "id": "97a528ae",
   "metadata": {},
   "source": [
    "## Q7 — Share your notebook (2 pts)\n",
    "1. **File → Download as → Notebook (.ipynb)**\n",
    "2. Upload to a **public GitHub repository**.\n",
    "3. Submit the **URL** in the assignment.\n",
    "\n",
    "**Screenshots to include:**\n",
    "- Q1: TSLA head/tail/shape\n",
    "- Q2: TSLA revenue head/tail/shape\n",
    "- Q3: GME head/tail/shape\n",
    "- Q4: GME revenue head/tail/shape\n",
    "- Q5 & Q6: Both dashboards fully visible\n",
    "- Q7: Link to public repo / proof of sharing"
   ]
  }
 ],
 "metadata": {},
 "nbformat": 4,
 "nbformat_minor": 5
}
